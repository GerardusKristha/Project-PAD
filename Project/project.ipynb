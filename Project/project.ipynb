{
 "cells": [
  {
   "cell_type": "code",
   "execution_count": null,
   "metadata": {},
   "outputs": [],
   "source": [
    "# Menu Costumer\n"
   ]
  },
  {
   "cell_type": "code",
   "execution_count": null,
   "metadata": {},
   "outputs": [],
   "source": [
    "# Menu sistem\n",
    "switch_case_sistem={\n",
    "    1:customer_menu,\n",
    "    2:admin_menu\n",
    "}"
   ]
  },
  {
   "cell_type": "code",
   "execution_count": null,
   "metadata": {},
   "outputs": [],
   "source": [
    "choice = 0\n",
    "while choice !=9:\n",
    "      # Menu 1 start program\n",
    "      print(\"\\n================= SISTEM BANK =================\")\n",
    "      print(\"\\n----Pilih Menu----\\n\"\n",
    "          \"1. Customer\\n\"\n",
    "          \"2. Admin\\n\"\n",
    "          \"9. Keluar Program\")\n",
    "      choice = int(input(\"Masukkan pilihan : \"))\n",
    "    \n",
    "      print(\"\\n-----------------------------------------------------\")\n",
    "      switch_case_sistem.get(choice)()\n",
    "      "
   ]
  }
 ],
 "metadata": {
  "language_info": {
   "name": "python"
  },
  "orig_nbformat": 4
 },
 "nbformat": 4,
 "nbformat_minor": 2
}
