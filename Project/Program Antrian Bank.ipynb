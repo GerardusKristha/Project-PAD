{
 "cells": [
  {
   "cell_type": "code",
   "execution_count": null,
   "metadata": {},
   "outputs": [],
   "source": []
  },
  {
   "cell_type": "code",
   "execution_count": null,
   "metadata": {},
   "outputs": [],
   "source": [
    "def caseAmbilAntrian(choice,tipe):\n",
    "    nama = str(input(\"Masukkan Nama Anda : \"))\n",
    "    keluhan = str(input(\"Masukkan Keluhan Anda : \"))\n",
    "    # customer = new Nasabah(nama, tujuan, noAntrianCS);\n",
    "    # antrian_cs.enqueue(customer);\n",
    "    # String outputKarcisCS = \"       Nomor Antrian Anda     \\n\"\n",
    "                                    #                       + \"               ----\" + (noAntrianCS) + \"----\\n\";\n",
    "                                    # System.out.println(\"\\n------------------------------\\n\"\n",
    "                                    #         + \"       Customer Services    \\n\"\n",
    "                                    #         + \"       Nomor Antrian Anda     \\n\"\n",
    "                                    #         + \"            ----\" + (noAntrianCS++) + \"----\\n\"\n",
    "                                    #         + \"------------------------------\");\n",
    "    \n",
    "    \n",
    "    # while choice!=3:\n",
    "    #     print(\"\\n----Pilih Layanan----\\n\"\n",
    "    #     \"1. Customer Service\\n\"\n",
    "    #     \"2. Teller\\n\")\n",
    "    #     tipe = int(input(\"Masukkan Pilihan Antrian : \"))\n",
    "\n",
    "def caseCariData(choice):\n",
    "    # while choice!=3:\n",
    "    #     print(\"\\n----Pilih Layanan----\\n\"\n",
    "    #     \"1. Customer Service\\n\"\n",
    "    #     \"2. Teller\\n\")\n",
    "    #     tipe = int(input(\"Masukkan Pilihan Antrian : \"))"
   ]
  },
  {
   "cell_type": "code",
   "execution_count": null,
   "metadata": {},
   "outputs": [],
   "source": [
    "switch_case_MenuCostumer={\n",
    "    1:caseAmbilAntrian,\n",
    "    2:caseCariData\n",
    "}"
   ]
  },
  {
   "cell_type": "code",
   "execution_count": null,
   "metadata": {},
   "outputs": [],
   "source": [
    "# Menu Start\n",
    "def caseCustomer(choice):\n",
    "    while choice!=3:\n",
    "        print(\"============= SELAMAT DATANG DI BANK =============\")\n",
    "        print(\"\\n----Pilih Menu Customer----\\n\"\n",
    "        \"1. Ambil Antrian\\n\"\n",
    "        \"2. Cari data\\n\"\n",
    "        \"3. Keluar\")\n",
    "        choice = int(input(\"Masukkan pilihan : \"))\n",
    "        switch_case_MenuCostumer.get(caseAmbilAntrian(choice))\n",
    "def caseAdmin(choice):\n",
    "    while choice!=4:\n",
    "        print(\"============= DATA ANTRIAN BANK ==============\")\n",
    "        print(\"\\n----Pilih Menu Admin----\\n\"\n",
    "        \"1. Panggil Antrian\\n\"\n",
    "        \"2. Tampilkan Antrian\\n\"\n",
    "        \"3. Cari Data\\n\"\n",
    "        \"4. Keluar\")\n",
    "        choice = int(input(\"Masukkan pilihan : \"))"
   ]
  },
  {
   "cell_type": "code",
   "execution_count": null,
   "metadata": {},
   "outputs": [],
   "source": [
    "switch_case_MenuUtama ={\n",
    "    1:caseCustomer,\n",
    "    2:caseAdmin\n",
    "}"
   ]
  },
  {
   "cell_type": "code",
   "execution_count": null,
   "metadata": {},
   "outputs": [],
   "source": [
    "# Menu Costomer\n",
    "# def caseAmbilAntrian():\n",
    "#     print(\"\\n----Pilih Layanan----\\n\"\n",
    "#         \"1. Customer Service\\n\"\n",
    "#         \"2. Teller\\n\")\n",
    "#     tipe = int(input(\"Masukkan Pilihan Antrian : \"))\n",
    "\n"
   ]
  },
  {
   "cell_type": "code",
   "execution_count": null,
   "metadata": {},
   "outputs": [],
   "source": []
  },
  {
   "cell_type": "code",
   "execution_count": null,
   "metadata": {},
   "outputs": [],
   "source": []
  },
  {
   "cell_type": "code",
   "execution_count": null,
   "metadata": {},
   "outputs": [],
   "source": [
    "# Switch case layanan\n",
    "switch_case_Layanan={\n",
    "    1,\n",
    "}"
   ]
  },
  {
   "cell_type": "code",
   "execution_count": null,
   "metadata": {},
   "outputs": [],
   "source": []
  },
  {
   "cell_type": "code",
   "execution_count": null,
   "metadata": {},
   "outputs": [],
   "source": []
  },
  {
   "cell_type": "code",
   "execution_count": null,
   "metadata": {},
   "outputs": [],
   "source": [
    "choice = 0\n",
    "while choice !=9:\n",
    "      # Menu 1 start program\n",
    "      print(\"\\n================= SISTEM BANK =================\")\n",
    "      print(\"\\n----Pilih Menu----\\n\"\n",
    "          \"1. Customer\\n\"\n",
    "          \"2. Admin\\n\"\n",
    "          \"9. Keluar Program\")\n",
    "      choice = int(input(\"Masukkan pilihan : \"))\n",
    "    \n",
    "      print(\"\\n-----------------------------------------------------\")\n",
    "      \n",
    "      switch_case_MenuUtama.get(choice)()"
   ]
  }
 ],
 "metadata": {
  "kernelspec": {
   "display_name": "Python 3",
   "language": "python",
   "name": "python3"
  },
  "language_info": {
   "codemirror_mode": {
    "name": "ipython",
    "version": 3
   },
   "file_extension": ".py",
   "mimetype": "text/x-python",
   "name": "python",
   "nbconvert_exporter": "python",
   "pygments_lexer": "ipython3",
   "version": "3.9.13"
  },
  "orig_nbformat": 4
 },
 "nbformat": 4,
 "nbformat_minor": 2
}
